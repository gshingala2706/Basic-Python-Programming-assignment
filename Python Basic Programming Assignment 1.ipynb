{
 "cells": [
  {
   "cell_type": "markdown",
   "id": "18f22c62",
   "metadata": {},
   "source": [
    "## 1.\tWrite a Python program to print \"Hello Python\"?"
   ]
  },
  {
   "cell_type": "code",
   "execution_count": 1,
   "id": "9af519fd",
   "metadata": {},
   "outputs": [
    {
     "name": "stdout",
     "output_type": "stream",
     "text": [
      "Hello Python\n"
     ]
    }
   ],
   "source": [
    "print('Hello Python')"
   ]
  },
  {
   "cell_type": "code",
   "execution_count": null,
   "id": "e4dfc0e6",
   "metadata": {},
   "outputs": [],
   "source": []
  },
  {
   "cell_type": "markdown",
   "id": "44f6890b",
   "metadata": {},
   "source": [
    "## 2.\tWrite a Python program to do arithmetical operations addition and division.?"
   ]
  },
  {
   "cell_type": "code",
   "execution_count": 2,
   "id": "ed7e6422",
   "metadata": {},
   "outputs": [
    {
     "name": "stdout",
     "output_type": "stream",
     "text": [
      "Enter the first number: 12\n",
      "Enter the Second number: 6\n",
      "Sum of given numbers are:  18\n",
      "Division of given numbers are:  2.0\n"
     ]
    }
   ],
   "source": [
    "a = int(input('Enter the first number: '))\n",
    "b = int(input('Enter the Second number: '))\n",
    "\n",
    "Addition = a+b\n",
    "Division = a/b\n",
    "\n",
    "print(f'Sum of given numbers are :  {Addition}')\n",
    "print(f'Division of given numbers are:  {Division}')"
   ]
  },
  {
   "cell_type": "code",
   "execution_count": null,
   "id": "3e866ce0",
   "metadata": {},
   "outputs": [],
   "source": []
  },
  {
   "cell_type": "markdown",
   "id": "e5c44811",
   "metadata": {},
   "source": [
    "## 3.\tWrite a Python program to find the area of a triangle?"
   ]
  },
  {
   "cell_type": "code",
   "execution_count": 3,
   "id": "63cb308a",
   "metadata": {},
   "outputs": [
    {
     "name": "stdout",
     "output_type": "stream",
     "text": [
      "Enter the the Height of triangle: 6\n",
      "Enter the Base of triangle: 4\n",
      "An area of triangle is: 12.0\n"
     ]
    }
   ],
   "source": [
    "# Area of triangle : (Height*Base)/2\n",
    "\n",
    "Height = int(input('Enter the the Height of triangle: '))\n",
    "Base = int(input('Enter the Base of triangle: '))\n",
    "\n",
    "Area = (Height*Base)/2\n",
    "\n",
    "print(f'An area of triangle is: {Area}')"
   ]
  },
  {
   "cell_type": "code",
   "execution_count": null,
   "id": "0996a5e3",
   "metadata": {},
   "outputs": [],
   "source": []
  },
  {
   "cell_type": "markdown",
   "id": "ee9fad21",
   "metadata": {},
   "source": [
    "## 4.\tWrite a Python program to swap two variables?"
   ]
  },
  {
   "cell_type": "code",
   "execution_count": 8,
   "id": "2eb4e22b",
   "metadata": {},
   "outputs": [],
   "source": [
    "# Suppose we have teo variable a and b and values contains as per under:\n",
    "\n",
    "a = 'Gunjan'\n",
    "b = 'Shingala'\n",
    "\n",
    "c = a # here c is temp variable\n",
    "\n",
    "a = b\n",
    "b = c\n"
   ]
  },
  {
   "cell_type": "code",
   "execution_count": 11,
   "id": "e1f6ca23",
   "metadata": {},
   "outputs": [
    {
     "data": {
      "text/plain": [
       "('Shingala', 'Gunjan')"
      ]
     },
     "execution_count": 11,
     "metadata": {},
     "output_type": "execute_result"
    }
   ],
   "source": [
    "a,b"
   ]
  },
  {
   "cell_type": "code",
   "execution_count": null,
   "id": "2e479a3b",
   "metadata": {},
   "outputs": [],
   "source": []
  },
  {
   "cell_type": "markdown",
   "id": "2a1413d8",
   "metadata": {},
   "source": [
    "## 5.\tWrite a Python program to generate a random number?"
   ]
  },
  {
   "cell_type": "code",
   "execution_count": 27,
   "id": "c2aff29a",
   "metadata": {},
   "outputs": [
    {
     "name": "stdout",
     "output_type": "stream",
     "text": [
      "96\n",
      "88\n",
      "36\n",
      "3\n",
      "37\n",
      "66\n",
      "61\n",
      "49\n",
      "78\n",
      "40\n"
     ]
    }
   ],
   "source": [
    "# Below codes gives the 10 random integer numbers from range of 1 to 100\n",
    "\n",
    "import random\n",
    "for x in range(10):\n",
    "    print(random.randint(1,101))"
   ]
  },
  {
   "cell_type": "code",
   "execution_count": null,
   "id": "22a00d2a",
   "metadata": {},
   "outputs": [],
   "source": []
  },
  {
   "cell_type": "code",
   "execution_count": null,
   "id": "6c716faf",
   "metadata": {},
   "outputs": [],
   "source": []
  }
 ],
 "metadata": {
  "kernelspec": {
   "display_name": "Python 3",
   "language": "python",
   "name": "python3"
  },
  "language_info": {
   "codemirror_mode": {
    "name": "ipython",
    "version": 3
   },
   "file_extension": ".py",
   "mimetype": "text/x-python",
   "name": "python",
   "nbconvert_exporter": "python",
   "pygments_lexer": "ipython3",
   "version": "3.8.8"
  }
 },
 "nbformat": 4,
 "nbformat_minor": 5
}
