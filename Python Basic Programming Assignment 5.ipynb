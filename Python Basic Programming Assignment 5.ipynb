{
 "cells": [
  {
   "cell_type": "markdown",
   "id": "39709ee1",
   "metadata": {},
   "source": [
    "## 2.\tWrite a Python Program to Find HCM?"
   ]
  },
  {
   "cell_type": "code",
   "execution_count": 138,
   "id": "5487aa4f",
   "metadata": {},
   "outputs": [
    {
     "name": "stdout",
     "output_type": "stream",
     "text": [
      "The HCF is 100\n"
     ]
    }
   ],
   "source": [
    "def compute_hcf(x, y):\n",
    "    while(y):\n",
    "        x, y = y, x % y\n",
    "    return x\n",
    "\n",
    "hcf = compute_hcf(300, 400)\n",
    "print(\"The HCF is\", hcf)"
   ]
  },
  {
   "cell_type": "code",
   "execution_count": null,
   "id": "9e0ce5fc",
   "metadata": {},
   "outputs": [],
   "source": []
  },
  {
   "cell_type": "markdown",
   "id": "86c958d7",
   "metadata": {},
   "source": [
    "## 1. Write a Python Program to Find HCM?"
   ]
  },
  {
   "cell_type": "code",
   "execution_count": 140,
   "id": "e831b3e4",
   "metadata": {},
   "outputs": [
    {
     "name": "stdout",
     "output_type": "stream",
     "text": [
      "The LCF is 216.0\n"
     ]
    }
   ],
   "source": [
    "## number1 * number 2 = LCM(number1, number2) * HCM (number1, number2)\n",
    "\n",
    "def compute_lcf(x, y):\n",
    "    lcm = (x*y)/compute_hcf(x, y)\n",
    "    return lcm\n",
    "\n",
    "lcf = compute_lcf(54,24)\n",
    "print(\"The LCF is\", lcf)\n"
   ]
  },
  {
   "cell_type": "code",
   "execution_count": null,
   "id": "b5dec6ea",
   "metadata": {},
   "outputs": [],
   "source": []
  },
  {
   "cell_type": "markdown",
   "id": "7e109737",
   "metadata": {},
   "source": [
    "## 3.\tWrite a Python Program to Convert Decimal to Binary, Octal and Hexadecimal?"
   ]
  },
  {
   "cell_type": "code",
   "execution_count": 144,
   "id": "ebecd65a",
   "metadata": {},
   "outputs": [
    {
     "name": "stdout",
     "output_type": "stream",
     "text": [
      "Enter the decimal number: 10\n",
      "Equivalent binary number is 0b1010\n",
      "Equivalent Octal number is 0o12\n",
      "Equivalent Hexadecimal number is 0xa\n"
     ]
    }
   ],
   "source": [
    "# we have used built-in functions bin(), oct() and hex() to convert the given decimal number into respective number systems.\n",
    "\n",
    "\n",
    "num = int(input('Enter the decimal number: '))\n",
    "\n",
    "print(f'Equivalent binary number is {bin(num)}')\n",
    "print(f'Equivalent Octal number is {oct(num)}')\n",
    "print(f'Equivalent Hexadecimal number is {hex(num)}')"
   ]
  },
  {
   "cell_type": "code",
   "execution_count": null,
   "id": "e0b8d6ca",
   "metadata": {},
   "outputs": [],
   "source": []
  },
  {
   "cell_type": "markdown",
   "id": "99fc5734",
   "metadata": {},
   "source": [
    "## 4.\tWrite a Python Program To Find ASCII value of a character?"
   ]
  },
  {
   "cell_type": "code",
   "execution_count": 146,
   "id": "af7a5db4",
   "metadata": {},
   "outputs": [
    {
     "name": "stdout",
     "output_type": "stream",
     "text": [
      "Enter the character: Z\n",
      "The ASCII value of 'Z' is 90\n"
     ]
    }
   ],
   "source": [
    "char = input('Enter the character: ')\n",
    "\n",
    "print(\"The ASCII value of '\" + char + \"' is\", ord(char))"
   ]
  },
  {
   "cell_type": "code",
   "execution_count": null,
   "id": "4866c2c6",
   "metadata": {},
   "outputs": [],
   "source": []
  },
  {
   "cell_type": "markdown",
   "id": "a9b0cdc4",
   "metadata": {},
   "source": [
    "## 5.\tWrite a Python Program to Make a Simple Calculator with 4 basic mathematical operations?"
   ]
  },
  {
   "cell_type": "code",
   "execution_count": 147,
   "id": "c780558a",
   "metadata": {},
   "outputs": [
    {
     "name": "stdout",
     "output_type": "stream",
     "text": [
      "Select operation.\n",
      "1.Add\n",
      "2.Subtract\n",
      "3.Multiply\n",
      "4.Divide\n",
      "Enter choice(1/2/3/4): 4\n",
      "Enter first number: 8\n",
      "Enter second number: 4\n",
      "8.0 / 4.0 = 2.0\n"
     ]
    }
   ],
   "source": [
    "# This function adds two numbers\n",
    "def add(x, y):\n",
    "    return x + y\n",
    "\n",
    "# This function subtracts two numbers\n",
    "def subtract(x, y):\n",
    "    return x - y\n",
    "\n",
    "# This function multiplies two numbers\n",
    "def multiply(x, y):\n",
    "    return x * y\n",
    "\n",
    "# This function divides two numbers\n",
    "def divide(x, y):\n",
    "    return x / y\n",
    "\n",
    "\n",
    "print(\"Select operation.\")\n",
    "print(\"1.Add\")\n",
    "print(\"2.Subtract\")\n",
    "print(\"3.Multiply\")\n",
    "print(\"4.Divide\")\n",
    "\n",
    "while True:\n",
    "    # Take input from the user\n",
    "    choice = input(\"Enter choice(1/2/3/4): \")\n",
    "\n",
    "    # Check if choice is one of the four options\n",
    "    if choice in ('1', '2', '3', '4'):\n",
    "        num1 = float(input(\"Enter first number: \"))\n",
    "        num2 = float(input(\"Enter second number: \"))\n",
    "\n",
    "        if choice == '1':\n",
    "            print(num1, \"+\", num2, \"=\", add(num1, num2))\n",
    "\n",
    "        elif choice == '2':\n",
    "            print(num1, \"-\", num2, \"=\", subtract(num1, num2))\n",
    "\n",
    "        elif choice == '3':\n",
    "            print(num1, \"*\", num2, \"=\", multiply(num1, num2))\n",
    "\n",
    "        elif choice == '4':\n",
    "            print(num1, \"/\", num2, \"=\", divide(num1, num2))\n",
    "        break\n",
    "    else:\n",
    "        print(\"Invalid Input\")"
   ]
  },
  {
   "cell_type": "code",
   "execution_count": null,
   "id": "056f3946",
   "metadata": {},
   "outputs": [],
   "source": []
  }
 ],
 "metadata": {
  "kernelspec": {
   "display_name": "Python 3",
   "language": "python",
   "name": "python3"
  },
  "language_info": {
   "codemirror_mode": {
    "name": "ipython",
    "version": 3
   },
   "file_extension": ".py",
   "mimetype": "text/x-python",
   "name": "python",
   "nbconvert_exporter": "python",
   "pygments_lexer": "ipython3",
   "version": "3.8.8"
  }
 },
 "nbformat": 4,
 "nbformat_minor": 5
}
