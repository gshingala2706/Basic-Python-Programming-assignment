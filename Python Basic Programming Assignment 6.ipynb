{
 "cells": [
  {
   "cell_type": "markdown",
   "id": "c929bd46",
   "metadata": {},
   "source": [
    "## 1.\tWrite a Python Program to Display Fibonacci Sequence Using Recursion?"
   ]
  },
  {
   "cell_type": "code",
   "execution_count": 1,
   "id": "6de21383",
   "metadata": {},
   "outputs": [
    {
     "name": "stdout",
     "output_type": "stream",
     "text": [
      "Enter the length of series you want: 10\n",
      "0\n",
      "1\n",
      "1\n",
      "2\n",
      "3\n",
      "5\n",
      "8\n",
      "13\n",
      "21\n",
      "34\n",
      "55\n"
     ]
    }
   ],
   "source": [
    "def fibonacci(n):\n",
    "    \n",
    "    if n <= 1:\n",
    "        return n\n",
    "    \n",
    "    else:\n",
    "        return fibonacci(n-1) + fibonacci(n-2)\n",
    "\n",
    "\n",
    "\n",
    "a = int(input('Enter the length of series you want: '))\n",
    "\n",
    "for i in range (a+1):\n",
    "    print(fibonacci(i))\n",
    "    "
   ]
  },
  {
   "cell_type": "markdown",
   "id": "aa80f057",
   "metadata": {},
   "source": [
    "## 2.\tWrite a Python Program to Find Factorial of Number Using Recursion?"
   ]
  },
  {
   "cell_type": "code",
   "execution_count": 2,
   "id": "cc051694",
   "metadata": {},
   "outputs": [],
   "source": [
    "# n! = n * (n-1)!\n",
    "\n",
    "factorial = 1\n",
    "\n",
    "def fact(n):\n",
    "    if n==1 or n==0:\n",
    "        factorial = 1\n",
    "    else:\n",
    "        factorial = n*fact(n-1)\n",
    "        \n",
    "    return factorial\n"
   ]
  },
  {
   "cell_type": "code",
   "execution_count": 3,
   "id": "fa5dfba6",
   "metadata": {},
   "outputs": [
    {
     "data": {
      "text/plain": [
       "120"
      ]
     },
     "execution_count": 3,
     "metadata": {},
     "output_type": "execute_result"
    }
   ],
   "source": [
    "fact(5)"
   ]
  },
  {
   "cell_type": "code",
   "execution_count": null,
   "id": "33c17506",
   "metadata": {},
   "outputs": [],
   "source": []
  },
  {
   "cell_type": "markdown",
   "id": "abaa44ad",
   "metadata": {},
   "source": [
    "## 3.\tWrite a Python Program to calculate your Body Mass Index?"
   ]
  },
  {
   "cell_type": "code",
   "execution_count": 9,
   "id": "dc7aa57a",
   "metadata": {},
   "outputs": [
    {
     "name": "stdout",
     "output_type": "stream",
     "text": [
      "Enter your weight in Kg: 80\n",
      "Enter your Height in meter: 1\n"
     ]
    },
    {
     "data": {
      "text/plain": [
       "(80.0, 'Obesity ')"
      ]
     },
     "execution_count": 9,
     "metadata": {},
     "output_type": "execute_result"
    }
   ],
   "source": [
    "kg = int(input('Enter your weight in Kg: '))\n",
    "Height = int(input('Enter your Height in meter: '))\n",
    "\n",
    "def bmi_cal(kg, Height):\n",
    "    bmi = kg/(Height**2)\n",
    "    \n",
    "    if bmi < 18.5:\n",
    "        return bmi, 'Under Weight'\n",
    "        \n",
    "    elif 18.5 < bmi < 24.9:\n",
    "        return bmi, 'Normal Weight'\n",
    "        \n",
    "    elif 24.9 < bmi < 29.9:\n",
    "        return bmi, 'Over Weight'\n",
    "        \n",
    "    else:\n",
    "        return bmi, 'Obesity '\n",
    "        \n",
    "bmi_cal(kg,Height)"
   ]
  },
  {
   "cell_type": "code",
   "execution_count": null,
   "id": "f5e731c8",
   "metadata": {},
   "outputs": [],
   "source": []
  },
  {
   "cell_type": "markdown",
   "id": "e5bf3a04",
   "metadata": {},
   "source": [
    "## 4.\tWrite a Python Program to calculate the natural logarithm of any number?"
   ]
  },
  {
   "cell_type": "code",
   "execution_count": 10,
   "id": "61b559b8",
   "metadata": {},
   "outputs": [
    {
     "name": "stdout",
     "output_type": "stream",
     "text": [
      "Natural logarithm of 14 is : 2.6390573296152584\n"
     ]
    }
   ],
   "source": [
    "import math\n",
    "\n",
    "print (\"Natural logarithm of 14 is : \", end=\"\")\n",
    "print (math.log(14))"
   ]
  },
  {
   "cell_type": "code",
   "execution_count": null,
   "id": "1fc1fb50",
   "metadata": {},
   "outputs": [],
   "source": []
  },
  {
   "cell_type": "markdown",
   "id": "6d9adbc7",
   "metadata": {},
   "source": [
    "## 5.\tWrite a Python Program for cube sum of first n natural numbers?"
   ]
  },
  {
   "cell_type": "code",
   "execution_count": 11,
   "id": "c0e94d05",
   "metadata": {},
   "outputs": [
    {
     "name": "stdout",
     "output_type": "stream",
     "text": [
      "Enter the number: 3\n",
      "Cube sum of first 3 natiral number is:   36.0\n"
     ]
    }
   ],
   "source": [
    "n = int(input('Enter the number: '))\n",
    "\n",
    "sum = ((n*(n+1))/2)**2\n",
    "\n",
    "print(f'Cube sum of first {n} natiral number is:  ', sum)"
   ]
  },
  {
   "cell_type": "code",
   "execution_count": null,
   "id": "f0ef3a4e",
   "metadata": {},
   "outputs": [],
   "source": []
  }
 ],
 "metadata": {
  "kernelspec": {
   "display_name": "Python 3",
   "language": "python",
   "name": "python3"
  },
  "language_info": {
   "codemirror_mode": {
    "name": "ipython",
    "version": 3
   },
   "file_extension": ".py",
   "mimetype": "text/x-python",
   "name": "python",
   "nbconvert_exporter": "python",
   "pygments_lexer": "ipython3",
   "version": "3.8.8"
  }
 },
 "nbformat": 4,
 "nbformat_minor": 5
}
