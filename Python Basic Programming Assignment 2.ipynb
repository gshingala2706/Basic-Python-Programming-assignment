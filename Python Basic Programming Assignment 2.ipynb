{
 "cells": [
  {
   "cell_type": "markdown",
   "id": "dff8fabd",
   "metadata": {},
   "source": [
    "## 1.\tWrite a Python program to convert kilometers to miles?"
   ]
  },
  {
   "cell_type": "code",
   "execution_count": 28,
   "id": "b046d69c",
   "metadata": {},
   "outputs": [
    {
     "name": "stdout",
     "output_type": "stream",
     "text": [
      "Enter the kilometers: 12\n",
      "12 Kilometers equivalent to 7.45644 miles \n"
     ]
    }
   ],
   "source": [
    "km = int(input('Enter the kilometers: '))\n",
    "\n",
    "mi = km * 0.62137\n",
    "\n",
    "print(f'{km} Kilometers equivalent to {mi} miles ')"
   ]
  },
  {
   "cell_type": "code",
   "execution_count": null,
   "id": "459c804a",
   "metadata": {},
   "outputs": [],
   "source": []
  },
  {
   "cell_type": "markdown",
   "id": "0268844b",
   "metadata": {},
   "source": [
    "## 2.\tWrite a Python program to convert Celsius to Fahrenheit?"
   ]
  },
  {
   "cell_type": "code",
   "execution_count": 31,
   "id": "134595bd",
   "metadata": {},
   "outputs": [
    {
     "name": "stdout",
     "output_type": "stream",
     "text": [
      "Enter the temperature in celsius: 10\n",
      " 10 celsius temperature equivalent to 50.0 Fahrenheit temperature\n"
     ]
    }
   ],
   "source": [
    "C= int(input('Enter the temperature in celsius: '))\n",
    "\n",
    "\n",
    "F = (C * 9/5) + 32\n",
    "\n",
    "print(f' {C} celsius temperature equivalent to {F} Fahrenheit temperature')"
   ]
  },
  {
   "cell_type": "code",
   "execution_count": null,
   "id": "b2950e9d",
   "metadata": {},
   "outputs": [],
   "source": []
  },
  {
   "cell_type": "markdown",
   "id": "58ddd356",
   "metadata": {},
   "source": [
    "## 3.\tWrite a Python program to display calendar?"
   ]
  },
  {
   "cell_type": "code",
   "execution_count": 37,
   "id": "e7ad4f35",
   "metadata": {},
   "outputs": [
    {
     "name": "stdout",
     "output_type": "stream",
     "text": [
      "Enter year: 21\n",
      "Enter month: 8\n",
      "     August 21\n",
      "Mo Tu We Th Fr Sa Su\n",
      "                   1\n",
      " 2  3  4  5  6  7  8\n",
      " 9 10 11 12 13 14 15\n",
      "16 17 18 19 20 21 22\n",
      "23 24 25 26 27 28 29\n",
      "30 31\n",
      "\n"
     ]
    }
   ],
   "source": [
    "\n",
    "# importing calendar module\n",
    "import calendar\n",
    "\n",
    "# To take month and year input from the user\n",
    "yy = int(input(\"Enter year: \"))\n",
    "mm = int(input(\"Enter month: \"))\n",
    "\n",
    "\n",
    "# display the calendar\n",
    "print(calendar.month(yy, mm))"
   ]
  },
  {
   "cell_type": "code",
   "execution_count": null,
   "id": "c4a4b5e1",
   "metadata": {},
   "outputs": [],
   "source": []
  },
  {
   "cell_type": "markdown",
   "id": "b89171c8",
   "metadata": {},
   "source": [
    "## 4.\tWrite a Python program to solve quadratic equation?"
   ]
  },
  {
   "cell_type": "code",
   "execution_count": 38,
   "id": "75b025d8",
   "metadata": {},
   "outputs": [
    {
     "name": "stdout",
     "output_type": "stream",
     "text": [
      "Enter a: 2\n",
      "Enter b: 5.6\n",
      "Enter c: 9.\n",
      "The solution are (-1.4-1.5937377450509227j) and (-1.4+1.5937377450509227j)\n"
     ]
    }
   ],
   "source": [
    "# import complex math module  \n",
    "import cmath  \n",
    "\n",
    "\n",
    "a = float(input('Enter a: '))  \n",
    "b = float(input('Enter b: '))  \n",
    "c = float(input('Enter c: '))  \n",
    "  \n",
    "# calculate the discriminant  \n",
    "d = (b**2) - (4*a*c)  \n",
    "  \n",
    "# find two solutions  \n",
    "sol1 = (-b-cmath.sqrt(d))/(2*a)  \n",
    "sol2 = (-b+cmath.sqrt(d))/(2*a)  \n",
    "\n",
    "\n",
    "print('The solution are {0} and {1}'.format(sol1,sol2))   "
   ]
  },
  {
   "cell_type": "code",
   "execution_count": null,
   "id": "2fc78350",
   "metadata": {},
   "outputs": [],
   "source": []
  },
  {
   "cell_type": "markdown",
   "id": "279706aa",
   "metadata": {},
   "source": [
    "## 5.\tWrite a Python program to swap two variables without temp variable?"
   ]
  },
  {
   "cell_type": "code",
   "execution_count": 47,
   "id": "7a915847",
   "metadata": {},
   "outputs": [
    {
     "name": "stdout",
     "output_type": "stream",
     "text": [
      "Before swaping value of two variables: \n",
      " \t a : Gunjan and b: Shingala\n",
      "\n",
      "After swaping value of two variables: \n",
      " \t a : Shingala and b: Gunjan\n"
     ]
    }
   ],
   "source": [
    "a = 'Gunjan'\n",
    "b = 'Shingala'\n",
    "\n",
    "print(f'Before swaping value of two variables: \\n \\t a : {a} and b: {b}')\n",
    "\n",
    "a,b = b,a\n",
    "\n",
    "print(f'\\nAfter swaping value of two variables: \\n \\t a : {a} and b: {b}')"
   ]
  },
  {
   "cell_type": "code",
   "execution_count": null,
   "id": "2afd0aaf",
   "metadata": {},
   "outputs": [],
   "source": []
  }
 ],
 "metadata": {
  "kernelspec": {
   "display_name": "Python 3",
   "language": "python",
   "name": "python3"
  },
  "language_info": {
   "codemirror_mode": {
    "name": "ipython",
    "version": 3
   },
   "file_extension": ".py",
   "mimetype": "text/x-python",
   "name": "python",
   "nbconvert_exporter": "python",
   "pygments_lexer": "ipython3",
   "version": "3.8.8"
  }
 },
 "nbformat": 4,
 "nbformat_minor": 5
}
