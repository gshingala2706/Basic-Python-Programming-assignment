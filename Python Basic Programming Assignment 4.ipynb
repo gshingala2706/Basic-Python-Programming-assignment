{
 "cells": [
  {
   "cell_type": "markdown",
   "id": "b15c4389",
   "metadata": {},
   "source": [
    "## 1.\tWrite a Python Program to Find the Factorial of a Number?"
   ]
  },
  {
   "cell_type": "code",
   "execution_count": 55,
   "id": "9c0ec498",
   "metadata": {},
   "outputs": [
    {
     "name": "stdout",
     "output_type": "stream",
     "text": [
      "Enter the number: 10\n",
      "Factorial of 10 is 3628800\n"
     ]
    }
   ],
   "source": [
    "num = int(input('Enter the number: '))\n",
    "\n",
    "factorial = 1\n",
    "\n",
    "for i in range(1, num+1):\n",
    "    factorial = i*factorial\n",
    "    \n",
    "print(f'Factorial of {num} is {factorial}')\n",
    "    "
   ]
  },
  {
   "cell_type": "code",
   "execution_count": null,
   "id": "66041338",
   "metadata": {},
   "outputs": [],
   "source": []
  },
  {
   "cell_type": "markdown",
   "id": "85c96fdc",
   "metadata": {},
   "source": [
    "## 2.\tWrite a Python Program to Display the multiplication Table?"
   ]
  },
  {
   "cell_type": "code",
   "execution_count": 63,
   "id": "b17c1d36",
   "metadata": {},
   "outputs": [
    {
     "name": "stdout",
     "output_type": "stream",
     "text": [
      "Enter the number: 19\n",
      "19 X 1  = 19\n",
      "19 X 2  = 38\n",
      "19 X 3  = 57\n",
      "19 X 4  = 76\n",
      "19 X 5  = 95\n",
      "19 X 6  = 114\n",
      "19 X 7  = 133\n",
      "19 X 8  = 152\n",
      "19 X 9  = 171\n",
      "19 X 10  = 190\n"
     ]
    }
   ],
   "source": [
    "num = int(input('Enter the number: '))\n",
    "\n",
    "for i in range(1,11):\n",
    "    print(f\"{num} X {i}  = {num*i}\")"
   ]
  },
  {
   "cell_type": "code",
   "execution_count": null,
   "id": "e5d9e6fa",
   "metadata": {},
   "outputs": [],
   "source": []
  },
  {
   "cell_type": "markdown",
   "id": "8e5474ec",
   "metadata": {},
   "source": [
    "## 3.\tWrite a Python Program to Print the Fibonacci sequence?"
   ]
  },
  {
   "cell_type": "code",
   "execution_count": 83,
   "id": "3fbcf4a0",
   "metadata": {},
   "outputs": [
    {
     "name": "stdout",
     "output_type": "stream",
     "text": [
      "[0, 1, 1, 2, 3, 5, 8, 13, 21, 34, 55, 89, 144, 233, 377, 610, 987, 1597, 2584, 4181]\n"
     ]
    }
   ],
   "source": [
    "list = [0,1]\n",
    "\n",
    "for j in range(2,20):\n",
    "        a = list[j-1] + list[j-2]\n",
    "    list.append(a)\n",
    "    \n",
    "print(list)\n",
    "    "
   ]
  },
  {
   "cell_type": "code",
   "execution_count": 86,
   "id": "fa3dfbd5",
   "metadata": {},
   "outputs": [
    {
     "name": "stdout",
     "output_type": "stream",
     "text": [
      "Enter the value of 'n': 5\n",
      "Fibonacci Series:  0 1 1 2 3 "
     ]
    }
   ],
   "source": [
    "n = int(input(\"Enter the value of 'n': \"))\n",
    "a = 0\n",
    "b = 1\n",
    "sum = 0\n",
    "count = 1\n",
    "print(\"Fibonacci Series: \", end = \" \")\n",
    "while(count <= n):\n",
    "  print(sum, end = \" \")\n",
    "  count += 1\n",
    "  a = b\n",
    "  b = sum\n",
    "  sum = a + b"
   ]
  },
  {
   "cell_type": "code",
   "execution_count": null,
   "id": "0c2773bc",
   "metadata": {},
   "outputs": [],
   "source": []
  },
  {
   "cell_type": "markdown",
   "id": "8f7f7a2f",
   "metadata": {},
   "source": [
    "## 4.\tWrite a Python Program to Check Armstrong Number?"
   ]
  },
  {
   "cell_type": "code",
   "execution_count": 119,
   "id": "61867212",
   "metadata": {},
   "outputs": [
    {
     "name": "stdout",
     "output_type": "stream",
     "text": [
      "Enter the number: 371\n",
      "371 is an Armstrong number\n"
     ]
    }
   ],
   "source": [
    "num = int(input(\"Enter the number: \"))\n",
    "\n",
    "# To make iterable a number\n",
    "s_num = str(num)\n",
    "\n",
    "\n",
    "# For digits calculations\n",
    "num1 = num\n",
    "count=0\n",
    "while(num1>0):\n",
    "    count=count+1\n",
    "    num1=num1//10\n",
    "\n",
    "\n",
    "# Find a sum of all digit wrt to power of number of digits\n",
    "sum1 = 0\n",
    "for i in range(count):\n",
    "        sum1 += int((s_num)[i])** count\n",
    "\n",
    "        \n",
    "# Condition       \n",
    "if sum1 == num:\n",
    "    print(f'{num} is an Armstrong number')\n",
    "    \n",
    "else:\n",
    "    print(f'{num} is not an Armstrong number')"
   ]
  },
  {
   "cell_type": "code",
   "execution_count": null,
   "id": "5c3edc6d",
   "metadata": {},
   "outputs": [],
   "source": []
  },
  {
   "cell_type": "markdown",
   "id": "9c7e7ed4",
   "metadata": {},
   "source": [
    "## 5.\tWrite a Python Program to Find Armstrong Number in an Interval?"
   ]
  },
  {
   "cell_type": "code",
   "execution_count": 124,
   "id": "69917e96",
   "metadata": {},
   "outputs": [
    {
     "name": "stdout",
     "output_type": "stream",
     "text": [
      "Enter the number: 11\n",
      "Enter the number: 10000\n",
      "153 is an Armstrong number\n",
      "370 is an Armstrong number\n",
      "371 is an Armstrong number\n",
      "407 is an Armstrong number\n",
      "1634 is an Armstrong number\n",
      "8208 is an Armstrong number\n",
      "9474 is an Armstrong number\n"
     ]
    }
   ],
   "source": [
    "number1 = int(input(\"Enter the number: \"))\n",
    "number2 = int(input(\"Enter the number: \"))\n",
    "\n",
    "for num in range(number1, number2+1):\n",
    "\n",
    "    # To make iterable a number\n",
    "    s_num = str(num)\n",
    "\n",
    "\n",
    "    # For digits calculations\n",
    "    num1 = num\n",
    "    count=0\n",
    "    while(num1>0):\n",
    "        count=count+1\n",
    "        num1=num1//10\n",
    "\n",
    "\n",
    "    # Find a sum of all digit wrt to power of number of digits\n",
    "    sum1 = 0\n",
    "    for i in range(count):\n",
    "            sum1 += int((s_num)[i])** count\n",
    "\n",
    "\n",
    "    # Condition       \n",
    "    if sum1 == num:\n",
    "        print(f'{num} is an Armstrong number')\n",
    "    "
   ]
  },
  {
   "cell_type": "code",
   "execution_count": null,
   "id": "d107ff3b",
   "metadata": {},
   "outputs": [],
   "source": []
  },
  {
   "cell_type": "markdown",
   "id": "778b94ba",
   "metadata": {},
   "source": [
    "## 6.\tWrite a Python Program to Find the Sum of Natural Numbers?"
   ]
  },
  {
   "cell_type": "code",
   "execution_count": 134,
   "id": "04c65c19",
   "metadata": {},
   "outputs": [
    {
     "name": "stdout",
     "output_type": "stream",
     "text": [
      "Enter a number: -5\n",
      "Enter the Positive number\n"
     ]
    }
   ],
   "source": [
    "num = int(input('Enter a number: '))\n",
    "\n",
    "if num > 0:\n",
    "    sum = num*(num+1)/2\n",
    "    print(sum)\n",
    "else:\n",
    "    print('Enter the Positive number')\n",
    "    \n"
   ]
  },
  {
   "cell_type": "code",
   "execution_count": null,
   "id": "aea082e4",
   "metadata": {},
   "outputs": [],
   "source": []
  }
 ],
 "metadata": {
  "kernelspec": {
   "display_name": "Python 3",
   "language": "python",
   "name": "python3"
  },
  "language_info": {
   "codemirror_mode": {
    "name": "ipython",
    "version": 3
   },
   "file_extension": ".py",
   "mimetype": "text/x-python",
   "name": "python",
   "nbconvert_exporter": "python",
   "pygments_lexer": "ipython3",
   "version": "3.8.8"
  }
 },
 "nbformat": 4,
 "nbformat_minor": 5
}
