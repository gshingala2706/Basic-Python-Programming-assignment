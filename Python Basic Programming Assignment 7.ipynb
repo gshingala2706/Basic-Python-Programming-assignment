{
 "cells": [
  {
   "cell_type": "markdown",
   "id": "4ac4aa14",
   "metadata": {},
   "source": [
    "## 1.\tWrite a Python Program to find sum of array?"
   ]
  },
  {
   "cell_type": "code",
   "execution_count": 1,
   "id": "760a861c",
   "metadata": {},
   "outputs": [
    {
     "name": "stdout",
     "output_type": "stream",
     "text": [
      "Sum of given array is 55\n"
     ]
    }
   ],
   "source": [
    "arr = [1,2,3,4,5,6,7,8,9,10]\n",
    "\n",
    "sum = 0\n",
    "\n",
    "for i in range(len(arr)):\n",
    "    sum += arr[i]\n",
    "    \n",
    "print('Sum of given array is', sum)"
   ]
  },
  {
   "cell_type": "code",
   "execution_count": null,
   "id": "a9cfc564",
   "metadata": {},
   "outputs": [],
   "source": []
  },
  {
   "cell_type": "markdown",
   "id": "9d174cca",
   "metadata": {},
   "source": [
    "## 2.\tWrite a Python Program to find largest element in an array?"
   ]
  },
  {
   "cell_type": "code",
   "execution_count": 2,
   "id": "2d54fc2a",
   "metadata": {},
   "outputs": [
    {
     "name": "stdout",
     "output_type": "stream",
     "text": [
      "410\n"
     ]
    }
   ],
   "source": [
    "arr = [15,10,25,24,2,6,9,85,1,3,5,410,15,150,180,189,0,2,3,0,4,5,0,5,8,9,0,50]\n",
    "\n",
    "max = arr[0]\n",
    "\n",
    "for i in range(1, len(arr)):\n",
    "    \n",
    "    if arr[i]> max:\n",
    "        max = arr[i]\n",
    "        \n",
    "print(max)"
   ]
  },
  {
   "cell_type": "code",
   "execution_count": null,
   "id": "aa9bf718",
   "metadata": {},
   "outputs": [],
   "source": []
  },
  {
   "cell_type": "markdown",
   "id": "f37002ef",
   "metadata": {},
   "source": [
    "## 3.\tWrite a Python Program for array rotation?"
   ]
  },
  {
   "cell_type": "code",
   "execution_count": 29,
   "id": "5a24bfec",
   "metadata": {},
   "outputs": [
    {
     "name": "stdout",
     "output_type": "stream",
     "text": [
      "[10, 9, 8, 7, 6, 5, 4, 3, 2, 1]\n"
     ]
    }
   ],
   "source": [
    "# Suppose we have array name like 'arr'\n",
    "\n",
    "arr = [1,2,3,4,5,6,7,8,9,10]\n",
    "\n",
    "arr1 = []\n",
    "\n",
    "for i in range(len(arr)-1, -1, -1):\n",
    "    arr1.append(arr[i])\n",
    "    \n",
    "print(arr1)\n",
    "    \n",
    "\n"
   ]
  },
  {
   "cell_type": "code",
   "execution_count": null,
   "id": "a2b37164",
   "metadata": {},
   "outputs": [],
   "source": []
  },
  {
   "cell_type": "markdown",
   "id": "074f9597",
   "metadata": {},
   "source": [
    "## 4.\tWrite a Python Program to Split the array and add the first part to the end?"
   ]
  },
  {
   "cell_type": "code",
   "execution_count": 41,
   "id": "ba3d04fe",
   "metadata": {},
   "outputs": [
    {
     "name": "stdout",
     "output_type": "stream",
     "text": [
      "[5, 6, 7, 8, 9, 10, 1, 2, 3, 4]\n"
     ]
    }
   ],
   "source": [
    "# Suppose we have array name like 'arr'\n",
    "\n",
    "arr = [1,2,3,4,5,6,7,8,9,10]\n",
    "\n",
    "# Suppose we will split the array like arr1 = [5,6,7,8,9,10,1,2,3,4]\n",
    "\n",
    "b = arr[:4]\n",
    "a = arr[4:]\n",
    "\n",
    "arr1 = a+b\n",
    "\n",
    "print(arr1)"
   ]
  },
  {
   "cell_type": "code",
   "execution_count": null,
   "id": "7ed7e7c2",
   "metadata": {},
   "outputs": [],
   "source": []
  },
  {
   "cell_type": "markdown",
   "id": "d63739d5",
   "metadata": {},
   "source": [
    "## 5.\tWrite a Python Program to check if given array is Monotonic?"
   ]
  },
  {
   "cell_type": "code",
   "execution_count": 56,
   "id": "d2d93027",
   "metadata": {},
   "outputs": [
    {
     "data": {
      "text/plain": [
       "True"
      ]
     },
     "execution_count": 56,
     "metadata": {},
     "output_type": "execute_result"
    }
   ],
   "source": [
    "def isMonotonic(A):\n",
    "  \n",
    "    return (all(A[i] <= A[i + 1] for i in range(len(A) - 1)) or\n",
    "            all(A[i] >= A[i + 1] for i in range(len(A) - 1)))\n",
    "        \n",
    "\n",
    "\n",
    "\n",
    "arr = [1,2,3,4,5,6]\n",
    "\n",
    "isMonotonic(arr)\n",
    "        \n",
    "        "
   ]
  },
  {
   "cell_type": "code",
   "execution_count": null,
   "id": "8352010b",
   "metadata": {},
   "outputs": [],
   "source": []
  }
 ],
 "metadata": {
  "kernelspec": {
   "display_name": "Python 3",
   "language": "python",
   "name": "python3"
  },
  "language_info": {
   "codemirror_mode": {
    "name": "ipython",
    "version": 3
   },
   "file_extension": ".py",
   "mimetype": "text/x-python",
   "name": "python",
   "nbconvert_exporter": "python",
   "pygments_lexer": "ipython3",
   "version": "3.8.8"
  }
 },
 "nbformat": 4,
 "nbformat_minor": 5
}
